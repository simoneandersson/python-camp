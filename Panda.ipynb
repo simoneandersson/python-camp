{
 "cells": [
  {
   "cell_type": "code",
   "execution_count": 20,
   "metadata": {},
   "outputs": [
    {
     "name": "stdout",
     "output_type": "stream",
     "text": [
      "    Coutry     Capital\n",
      "0   Sweden   Stockholm\n",
      "1   Norway        Oslo\n",
      "2  Denmark  Copenhagen\n",
      "3  England      London\n",
      "4  Germany      Berlin\n",
      "\n",
      "    Coutry     Capital\n",
      "0   Sweden   Stockholm\n",
      "1   Norway        Oslo\n",
      "2  Denmark  Copenhagen\n",
      "3  England      London\n",
      "4  Germany      Berlin\n"
     ]
    }
   ],
   "source": [
    "import pandas as pd\n",
    "\n",
    "countries = [\"Sweden\", \"Norway\", \"Denmark\", \"England\", \"Germany\"]\n",
    "capitals = [\"Stockholm\", \"Oslo\", \"Copenhagen\",\"London\", \"Berlin\"]\n",
    "\n",
    "combined = list(zip(countries,capitals))\n",
    "test = pd.DataFrame(data=combined,columns=[\"Coutry\",\"Capital\"])\n",
    "#test = pd.DataFrame({\"Country\": countries, \"Capital\": capitals})\n",
    "print(test)\n",
    "\n",
    "test.to_csv(\"dataframeCountries.csv\")\n",
    "\n",
    "test2 = pd.read_csv(\"dataframeCountries.csv\",index_col=0)\n",
    "#test2 = pd.DataFrame.from_csv(\"dataframeCountries.csv\")\n",
    "\n",
    "print()\n",
    "print(test2)"
   ]
  },
  {
   "cell_type": "code",
   "execution_count": null,
   "metadata": {},
   "outputs": [],
   "source": []
  }
 ],
 "metadata": {
  "kernelspec": {
   "display_name": "Python 3",
   "language": "python",
   "name": "python3"
  },
  "language_info": {
   "codemirror_mode": {
    "name": "ipython",
    "version": 3
   },
   "file_extension": ".py",
   "mimetype": "text/x-python",
   "name": "python",
   "nbconvert_exporter": "python",
   "pygments_lexer": "ipython3",
   "version": "3.6.5"
  }
 },
 "nbformat": 4,
 "nbformat_minor": 2
}
