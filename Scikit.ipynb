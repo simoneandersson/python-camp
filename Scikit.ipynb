{
 "cells": [
  {
   "cell_type": "code",
   "execution_count": 6,
   "metadata": {},
   "outputs": [
    {
     "data": {
      "text/plain": [
       "0"
      ]
     },
     "execution_count": 6,
     "metadata": {},
     "output_type": "execute_result"
    }
   ],
   "source": [
    "from sklearn import datasets, svm\n",
    "\n",
    "svc = svm.SVC(gamma=0.001, C=100.)\n",
    "#print(svc)\n",
    "\n",
    "iris = datasets.load_iris()\n",
    "#print(iris.DESCR)\n",
    "x, y = iris.data, iris.target\n",
    "svc.fit(x,y)\n",
    "\n",
    "import pickle\n",
    "s = pickle.dumps(svc)\n",
    "clf2 = pickle.loads(s)\n",
    "clf2.predict(x[0:1])\n",
    "\n",
    "y[0]"
   ]
  },
  {
   "cell_type": "code",
   "execution_count": null,
   "metadata": {},
   "outputs": [],
   "source": []
  }
 ],
 "metadata": {
  "kernelspec": {
   "display_name": "Python 3",
   "language": "python",
   "name": "python3"
  },
  "language_info": {
   "codemirror_mode": {
    "name": "ipython",
    "version": 3
   },
   "file_extension": ".py",
   "mimetype": "text/x-python",
   "name": "python",
   "nbconvert_exporter": "python",
   "pygments_lexer": "ipython3",
   "version": "3.6.5"
  }
 },
 "nbformat": 4,
 "nbformat_minor": 2
}
